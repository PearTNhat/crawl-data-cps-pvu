{
 "cells": [
  {
   "cell_type": "code",
   "execution_count": 1,
   "metadata": {},
   "outputs": [],
   "source": [
    "import pandas as pd"
   ]
  },
  {
   "cell_type": "code",
   "execution_count": 1,
   "metadata": {},
   "outputs": [
    {
     "name": "stdout",
     "output_type": "stream",
     "text": [
      "Đã lưu file: ./csv\\Gaming_laptop.csv\n",
      "Đã lưu file: ./csv\\Văn phòng_laptop.csv\n",
      "Đã lưu file: ./csv\\Sinh viên_laptop.csv\n"
     ]
    }
   ],
   "source": [
    "\n",
    "\n",
    "# Đọc file CSV\n",
    "file_path = \"./csv/data_laptop.csv\"\n",
    "df = pd.read_csv(file_path)\n",
    "\n",
    "# Tạo thư mục lưu các file kết quả\n",
    "output_dir = \"./csv\"\n",
    "os.makedirs(output_dir, exist_ok=True)\n",
    "\n",
    "# Lấy danh sách các nhãn duy nhất\n",
    "unique_labels = df['label'].unique()\n",
    "\n",
    "# Chia dữ liệu và lưu vào các file\n",
    "for label in unique_labels:\n",
    "    subset = df[df['label'] == label]\n",
    "    output_file = os.path.join(output_dir, f\"{label}_laptop.csv\")\n",
    "    subset.to_csv(output_file,  encoding=\"utf-8-sig\",index=False)\n",
    "    print(f\"Đã lưu file: {output_file}\")\n"
   ]
  },
  {
   "cell_type": "code",
   "execution_count": 1,
   "metadata": {},
   "outputs": [
    {
     "name": "stdout",
     "output_type": "stream",
     "text": [
      "         label                                               slug  \\\n",
      "12      Gaming          laptop-asus-tuf-gaming-f15-fx507vu-lp197w   \n",
      "71   Sinh viên                          laptop-huawei-matebook-14   \n",
      "137     Gaming     laptop-gaming-acer-nitro-5-tiger-an515-58-52sp   \n",
      "187  Văn phòng     laptop-acer-aspire-5-spin-14-a5sp14-51mtn-78jh   \n",
      "291     Gaming           laptop-gaming-acer-nitro-5-an515-58-52sp   \n",
      "293  Sinh viên                laptop-huawei-matebook-d14-i3-1215u   \n",
      "319  Sinh viên                laptop-huawei-matebook-d15-r7-5700u   \n",
      "414     Gaming     laptop-asus-tuf-gaming-f15-fx507vu-lp197w-16gb   \n",
      "424  Văn phòng  laptop-acer-aspire-5-spin-14-a5sp14-51mtn-78jh...   \n",
      "495  Văn phòng                laptop-huawei-matebook-d14-i5-1240p   \n",
      "525  Văn phòng                         laptop-huawei-matebook-d15   \n",
      "535  Văn phòng                         laptop-huawei-matebook-d14   \n",
      "541  Văn phòng                       laptop-huawei-matebook-14-r5   \n",
      "558  Sinh viên                laptop-asus-zenbook-flip-13-ux363ea   \n",
      "588  Văn phòng            laptop-asus-zenbook-flip-ux363ea-hp726w   \n",
      "\n",
      "                                              title  discountPrice  \\\n",
      "12        Laptop ASUS TUF Gaming F15 FX507VU-LP197W       25000000   \n",
      "71                        Laptop Huawei Matebook 14       12000000   \n",
      "137  Laptop Gaming Acer Nitro 5 Tiger AN515 58 52SP       17990000   \n",
      "187  Laptop Acer Aspire 5 Spin 14 A5SP14-51MTN-78JH       16990000   \n",
      "291  Laptop Gaming Acer Nitro 5 Tiger AN515 58 52SP       17990000   \n",
      "293                      Laptop Huawei Matebook D14       15000000   \n",
      "319                      Laptop Huawei Matebook D15       10990000   \n",
      "414       Laptop ASUS TUF Gaming F15 FX507VU-LP197W       12000000   \n",
      "424  Laptop Acer Aspire 5 Spin 14 A5SP14-51MTN-78JH       16990000   \n",
      "495                      Laptop Huawei Matebook D14       19000000   \n",
      "525                      Laptop Huawei Matebook D15       18000000   \n",
      "535                      Laptop Huawei Matebook D14       19000000   \n",
      "541                       Laptop Huawei Matebook 14       19000000   \n",
      "558                Laptop ASUS ZenBook Flip UX363EA       14000000   \n",
      "588                Laptop ASUS ZenBook Flip UX363EA       18000000   \n",
      "\n",
      "     soldQuantity  quantity   brand    series  totalRating  \\\n",
      "12             29         2    asus       tuf          1.1   \n",
      "71             90         1  huawei  matebook          3.2   \n",
      "137            41        41    acer     nitro          2.0   \n",
      "187            70        77    acer    aspire          2.9   \n",
      "291            78        78    acer     nitro          1.2   \n",
      "293            51         2  huawei  matebook          3.2   \n",
      "319            79        46  huawei  matebook          0.0   \n",
      "414             7        74    asus       tuf          4.0   \n",
      "424            88        12    acer    aspire          1.1   \n",
      "495            58        91  huawei  matebook          2.1   \n",
      "525            88         0  huawei  matebook          0.0   \n",
      "535            75        31  huawei  matebook          3.5   \n",
      "541            42        42  huawei  matebook          4.0   \n",
      "558            43        29    asus   zenbook          2.4   \n",
      "588            56        14    asus   zenbook          1.6   \n",
      "\n",
      "                                              features  ...     Trọng lượng  \\\n",
      "12   Cấu hình tuyệt vời với card đồ họa NVIDIA RTX ...  ...         2.20 kg   \n",
      "71    Thiết kế sang trọng bằng kim loại với các khu...  ...         1,49 kg   \n",
      "137  Chip Core i5-12500H cùng card rời RTX 3050 cho...  ...           2.5kg   \n",
      "187  Sở hữu thiết kế tối giản vỏ xám sang trọng, cù...  ...          1.6 kg   \n",
      "291  Chip Core i5-12500H cùng card rời RTX 3050 cho...  ...           2.5kg   \n",
      "293  Mang thiết kế sang trọng với màu bạc sáng bóng...  ...         1.39 kg   \n",
      "319  Màn hình 15.6 inch Full HD cùng tấm nền IPS ch...  ...         1.63 kg   \n",
      "414  Trang bị bộ vi xử lý Intel Core i7-13620H mạnh...  ...         2.20 Kg   \n",
      "424  Sở hữu thiết kế tối giản vỏ xám sang trọng, cù...  ...          1.6 kg   \n",
      "495  Thiết kế thời thượng - vỏ nhôm cao cấp, nhẹ ch...  ...         1.49 kg   \n",
      "525   Trọng lượng nhẹ, thiết kế sang trọng, bắt mắt...  ...  Khoảng 1,56 kg   \n",
      "535   Màn hình 14 inch FullHD tái tạo không gian ch...  ...         1.38 kg   \n",
      "541  Đa nhiệm tốt - 16GB ram giúp máy hoạt động mượ...  ...         1.49 kg   \n",
      "558  Thiết kế siêu mỏng nhẹ sang trọng, nặng chỉ 1,...  ...          1.3 kg   \n",
      "588  Chip Core i5-1135G7 xử lý tốt mọi tác vụ từ là...  ...          1.3 kg   \n",
      "\n",
      "                                    Tính năng đặc biệt  \\\n",
      "12                                             Wi-Fi 6   \n",
      "71                                             Wi-Fi 6   \n",
      "137                                            Wi-Fi 6   \n",
      "187  Wi-Fi 6, Màn hình cảm ứng, Xoay gập 360 độ (2 ...   \n",
      "291                                            Wi-Fi 6   \n",
      "293  Viền màn hình siêu mỏng, Wi-Fi 6, Bảo mật vân tay   \n",
      "319                           Wi-Fi 6, Bảo mật vân tay   \n",
      "414                                            Wi-Fi 6   \n",
      "424  Wi-Fi 6, Màn hình cảm ứng, Xoay gập 360 độ (2 ...   \n",
      "495                                            Wi-Fi 6   \n",
      "525           Viền màn hình siêu mỏng, Bảo mật vân tay   \n",
      "535                                            Wi-Fi 6   \n",
      "541                                    Bảo mật vân tay   \n",
      "558  Viền màn hình siêu mỏng, Wi-Fi 6, Màn hình cảm...   \n",
      "588  Viền màn hình siêu mỏng, Wi-Fi 6, Màn hình cảm...   \n",
      "\n",
      "                                   Loại đèn bàn phím  \\\n",
      "12               Backlit Chiclet Keyboard 1-Zone RGB   \n",
      "71                                               NaN   \n",
      "137                      Đèn chuyển màu RGB - 4 vùng   \n",
      "187                                              NaN   \n",
      "291                      Đèn chuyển màu RGB - 4 vùng   \n",
      "293                                              NaN   \n",
      "319                                              NaN   \n",
      "414  Bàn phím Chiclet có đèn nền RGB 1 vùngAura Sync   \n",
      "424                                              NaN   \n",
      "495                                              NaN   \n",
      "525                                              NaN   \n",
      "535                                              NaN   \n",
      "541                                              NaN   \n",
      "558                                              NaN   \n",
      "588                                              NaN   \n",
      "\n",
      "                                               Bảo mật              Webcam  \\\n",
      "12   Bảo vệ mật khẩu quản trị viên BIOS và mật khẩu...      720P HD camera   \n",
      "71                                                 NaN             HD 720p   \n",
      "137                                                NaN                 NaN   \n",
      "187  BIOS user, supervisor passwords, Kensington lo...                 NaN   \n",
      "291                                                NaN           HD webcam   \n",
      "293                   Cảm biến vân tay trên phím nguồn                720P   \n",
      "319                                                NaN      Camera 720P HD   \n",
      "414  Mật khẩu quản trị viên BIOS và bảo vệ mật khẩu...      720P HD camera   \n",
      "424  BIOS user, supervisor passwords, Kensington lo...            1080p HD   \n",
      "495                                                NaN      720P HD camera   \n",
      "525                                                NaN  Camera lõm HD 720p   \n",
      "535                                                NaN             HD 720p   \n",
      "541                                   Cảm biến vân tay             HD 720p   \n",
      "558                                                NaN  HD webcamCamera IR   \n",
      "588                                                NaN             HD 720p   \n",
      "\n",
      "           Hệ điều hành                          Pin  \\\n",
      "12      Windows 11 Home  90WHrs, 4S1P, 4-cell Li-ion   \n",
      "71   Windows 10 Home SL                        56 Wh   \n",
      "137     Windows 11 Home              4-cell, 57.5 Wh   \n",
      "187         Win 11 Home          50Wh Li-ion battery   \n",
      "291     Windows 11 Home              4-cell, 57.5 Wh   \n",
      "293     Windows 11 Home                        42 Wh   \n",
      "319     Windows 11 Home                         42Wh   \n",
      "414     Windows 11 Home  90WHrs, 4S1P, 4-cell Li-ion   \n",
      "424         Win 11 Home          50Wh Li-ion battery   \n",
      "495     Windows 11 Home                        56 Wh   \n",
      "525  Windows 10 Home SL   42 Wh (công suất định mức)   \n",
      "535  Windows 10 Home SL                        56 Wh   \n",
      "541          Windows 11                        56 Wh   \n",
      "558  Windows 10 Home SL                 4-cell, 67Wh   \n",
      "588          Windows 11                 4 Cell 67WHr   \n",
      "\n",
      "                                                 Wi-Fi      Bluetooth  \\\n",
      "12                   Wi-Fi 6(802.11ax) (Dual band) 2*2  Bluetooth 5.2   \n",
      "71                            IEEE 802.11a/b/g/n/ac/ax           v5.1   \n",
      "137                        Wi-Fi 6 802.11 a/b/g/n+acR2            5.1   \n",
      "187                      Wi-Fi 6E, 802.11a/b/g/n/ac/ax    Bluetooth 5   \n",
      "291                        Wi-Fi 6 802.11 a/b/g/n+acR2            5.1   \n",
      "293                              IEEE 802.11a/b/g/n/ac  Bluetooth 5.0   \n",
      "319                             Intel Wi-Fi 6 802.11ax  Bluetooth 5.1   \n",
      "414                  Wi-Fi 6(802.11ax) (Dual band) 2*2  Bluetooth 5.1   \n",
      "424                      Wi-Fi 6E, 802.11a/b/g/n/ac/ax    Bluetooth 5   \n",
      "495        IEEE 802.11a/b/g/n/ac/ax, 2.4 GHz and 5 GHz           v5.1   \n",
      "525  Wi-Fi: IEEE 802.11a/b/g/n/ac, 2.4GHz and 5GHz,...            5.0   \n",
      "535                              IEEE 802.11a/b/g/n/ac           v5.0   \n",
      "541                              IEEE 802.11a/b/g/n/ac           v5.0   \n",
      "558                        Intel Wi-Fi 6 AX201(2*2 ax)  Bluetooth 5.0   \n",
      "588                                    802.11 AX (2X2)           v5.0   \n",
      "\n",
      "                                        Cổng giao tiếp  \n",
      "12   1x RJ45 LAN1x Thunderbolt 4 (DisplayPort)1x US...  \n",
      "71   USB-C x 1 (hỗ trợ dữ liệu, sạc và DisplayPort)...  \n",
      "137  1x USB Type-C (Hỗ trợ: USB 3.2 Gen 2 up to 10 ...  \n",
      "187  1x USB Type-C2x USB-A1x HDMI 2.11x 3.5 mm head...  \n",
      "291  1x USB Type-C (Hỗ trợ: USB 3.2 Gen 2 up to 10 ...  \n",
      "293  1x Jack 3.5 mm1 x cổng USB-C (Hỗ trợ sạc, truy...  \n",
      "319  1x USB-C 1x USB 3.2 Gen1 2x USB 2.0 1x HDMI 1x...  \n",
      "414  1x RJ45 LAN  1x Thunderbolt 4 hỗ trợ DisplayPo...  \n",
      "424  1x USB Type-C2x USB-A1x HDMI 2.11x 3.5 mm head...  \n",
      "495  1x Jack 3.5 mm 1 x cổng USB-C1 x  HDMI USB-A 3...  \n",
      "525       USB 3.2 Gen1 x 1USB 2.0 x 2USB-C x 1HDMI x 1  \n",
      "535  USB-A 3.0 x 1 USB-A 2.0 x 1  USB-C x 1HDMI x 1...  \n",
      "541  USB-C x 1 (support data, charging and DisplayP...  \n",
      "558  2 x Thunderbolt™ 4 USB-C® (up to 40 Gbps), 1 x...  \n",
      "588  2x Thunderbolt™ 4 supports display / power del...  \n",
      "\n",
      "[15 rows x 38 columns]\n"
     ]
    }
   ],
   "source": [
    "import pandas as pd\n",
    "\n",
    "# Đọc file CSV\n",
    "file_path = \"./csv/data_laptop.csv\"\n",
    "df = pd.read_csv(file_path)\n",
    "\n",
    "# Lấy tất cả các giá trị unique từ cột \"Series\"\n",
    "duplicate_titles = df[df.duplicated('title', keep=False)]\n",
    "\n",
    "print(duplicate_titles)\n"
   ]
  },
  {
   "cell_type": "code",
   "execution_count": 3,
   "metadata": {},
   "outputs": [
    {
     "name": "stdout",
     "output_type": "stream",
     "text": [
      "['nitro', 'legion', 'thinkpad', 'tuf', 'xps', 'gram', 'pavilion', 'rog', 'latitude', 'inspiron', 'zenbook', 'loq', 'surface', 'vivobook', 'ideapad', 'g5', 'alienware', 'acer', 'expertbook', 'envy', 'gf63', 'aspire', 'inspirion', 'thinkbook', 'elitebook', 'fe', 'matebook', 'v14', 'hp', 'katana', 'creator', 'modern', 'prestige', 'swift', 'yoga', 'e210ka-gj073w', 'sword', 'victus', 'e140', '15s-fq5231tu', 'gaming', '15-fd0237tu', 'vostro', 'thin', 'g6', 'v15', 'bravo', 'cyborg', 'msi', 'pulse', 'redmibook', 'g15', 'latidude', 'mf', '15s-fq4006tu', 'uh-x', '14-ep0112tu', 'fx506lh-hn002t', 'exptertbook', 'asprie', 'x515ma-br481w', 'uh', '14s', 'gp66', 'liber', 'probook', 'nuc', '14-dq2055wm']\n"
     ]
    }
   ],
   "source": [
    "import pandas as pd\n",
    "\n",
    "# Đọc file CSV\n",
    "file_path = \"./csv/data_laptop.csv\"\n",
    "df = pd.read_csv(file_path)\n",
    "\n",
    "# Lấy tất cả các giá trị unique từ cột \"Series\"\n",
    "unique_series = df['series'].unique()\n",
    "\n",
    "# Chuyển thành mảng (danh sách) nếu cần\n",
    "unique_series_list = unique_series.tolist()\n",
    "\n",
    "# Hiển thị kết quả\n",
    "print(unique_series_list)\n"
   ]
  },
  {
   "cell_type": "code",
   "execution_count": 3,
   "metadata": {},
   "outputs": [
    {
     "name": "stdout",
     "output_type": "stream",
     "text": [
      "{'acer': ['gaming', 'nitro', 'aspire', 'swift', 'asprie'], 'asus': ['tuf', 'vivobook', 'e210ka-gj073w', 'fx506lh-hn002t', 'rog', 'expertbook', 'exptertbook', 'zenbook', 'x515ma-br481w'], 'avita': ['liber'], 'dell': ['latitude', 'inspiron', 'alienware', 'latidude', 'g15', 'vostro', 'g5', 'inspirion', 'xps'], 'fujitsu': ['uh-x', 'uh'], 'gigabyte': ['g6', 'g5', 'mf'], 'hp': ['probook', 'elitebook', '15-fd0237tu', 'hp', '14s', '14-dq2055wm', 'envy', 'victus', '15s-fq4006tu', '14-ep0112tu', 'pavilion', '15s-fq5231tu'], 'huawei': ['matebook'], 'intel': ['nuc'], 'lenovo': ['legion', 'v14', 'thinkpad', 'v15', 'thinkbook', 'yoga', 'loq', 'ideapad'], 'lg': ['gram'], 'masstel': ['e140'], 'microsoft': ['surface'], 'msi': ['katana', 'creator', 'cyborg', 'gp66', 'thin', 'bravo', 'gf63', 'prestige', 'modern', 'pulse', 'sword'], 'nitro': ['5'], 'vaio': ['fe'], 'xiaomi': ['redmibook']}\n"
     ]
    }
   ],
   "source": [
    "import pandas as pd\n",
    "\n",
    "# Đọc file CSV\n",
    "df = pd.read_csv(\"./csv/data_laptop.csv\")\n",
    "# Loại bỏ các dòng trùng lặp giữa brand và series\n",
    "df = df.drop_duplicates(subset=['brand', 'series'])\n",
    "\n",
    "# Nhóm các series theo brand và chuyển thành dictionary\n",
    "brand_series_dict = df.groupby('brand')['series'].apply(lambda x: list(set(x))).to_dict()\n",
    "\n",
    "# Hiển thị kết quả\n",
    "print(brand_series_dict)\n"
   ]
  },
  {
   "cell_type": "code",
   "execution_count": 2,
   "metadata": {},
   "outputs": [
    {
     "name": "stdout",
     "output_type": "stream",
     "text": [
      "['Đen', 'Xám', 'Bạc', 'Trắng', 'Xanh', 'Vàng', 'Xanh dương', 'Xanh Đen', 'Hồng', 'Tím', 'Xám bạc']\n"
     ]
    }
   ],
   "source": [
    "# Đọc file CSV\n",
    "file_path = \"./csv/data_laptop.csv\"\n",
    "df = pd.read_csv(file_path)\n",
    "\n",
    "# Lấy tất cả các giá trị unique từ cột \"Series\"\n",
    "unique_series = df['color'].unique()\n",
    "\n",
    "# Chuyển thành mảng (danh sách) nếu cần\n",
    "unique_series_list = unique_series.tolist()\n",
    "\n",
    "# Hiển thị kết quả\n",
    "print(unique_series_list)"
   ]
  },
  {
   "cell_type": "code",
   "execution_count": 2,
   "metadata": {},
   "outputs": [
    {
     "name": "stdout",
     "output_type": "stream",
     "text": [
      "['512GB', '1TB', '256GB', '2TB', '128GB', '120GB', '320GB']\n",
      "['8GB', '16GB', '32GB', '64GB', '24GB', '4GB', '12GB']\n"
     ]
    }
   ],
   "source": [
    "# Đọc file CSV\n",
    "file_path = \"./csv/data_laptop.csv\"\n",
    "df = pd.read_csv(file_path)\n",
    "\n",
    "# Lấy tất cả các giá trị unique từ cột \"Series\"\n",
    "unique_hardDrive = df['Dung lượng ổ cứng'].unique()\n",
    "unique_ram = df['Dung lượng RAM'].unique()\n",
    "# Chuyển thành mảng (danh sách) nếu cần\n",
    "unique_hardDrive_list = unique_hardDrive.tolist()\n",
    "unique_ram_list = unique_ram.tolist()\n",
    "\n",
    "# Hiển thị kết quả\n",
    "print(unique_hardDrive_list)\n",
    "print(unique_ram_list)"
   ]
  },
  {
   "cell_type": "code",
   "execution_count": null,
   "metadata": {},
   "outputs": [],
   "source": []
  }
 ],
 "metadata": {
  "kernelspec": {
   "display_name": "base",
   "language": "python",
   "name": "python3"
  },
  "language_info": {
   "codemirror_mode": {
    "name": "ipython",
    "version": 3
   },
   "file_extension": ".py",
   "mimetype": "text/x-python",
   "name": "python",
   "nbconvert_exporter": "python",
   "pygments_lexer": "ipython3",
   "version": "3.12.3"
  }
 },
 "nbformat": 4,
 "nbformat_minor": 2
}
